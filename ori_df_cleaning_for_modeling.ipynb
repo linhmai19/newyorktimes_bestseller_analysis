{
 "cells": [
  {
   "cell_type": "code",
   "execution_count": 1,
   "metadata": {},
   "outputs": [],
   "source": [
    "import pandas as pd\n",
    "import numpy as np\n",
    "import seaborn as sns\n",
    "sns.set(style=\"darkgrid\")\n",
    "import matplotlib.pyplot as plt\n",
    "%matplotlib inline\n",
    "plt.style.use('seaborn')"
   ]
  },
  {
   "cell_type": "code",
   "execution_count": 2,
   "metadata": {},
   "outputs": [
    {
     "data": {
      "text/html": [
       "<div>\n",
       "<style scoped>\n",
       "    .dataframe tbody tr th:only-of-type {\n",
       "        vertical-align: middle;\n",
       "    }\n",
       "\n",
       "    .dataframe tbody tr th {\n",
       "        vertical-align: top;\n",
       "    }\n",
       "\n",
       "    .dataframe thead th {\n",
       "        text-align: right;\n",
       "    }\n",
       "</style>\n",
       "<table border=\"1\" class=\"dataframe\">\n",
       "  <thead>\n",
       "    <tr style=\"text-align: right;\">\n",
       "      <th></th>\n",
       "      <th>publisher</th>\n",
       "      <th>author</th>\n",
       "      <th>isbn</th>\n",
       "      <th>date</th>\n",
       "      <th>title</th>\n",
       "      <th>weeks_on_list</th>\n",
       "      <th>no_of_words_title</th>\n",
       "    </tr>\n",
       "  </thead>\n",
       "  <tbody>\n",
       "    <tr>\n",
       "      <th>0</th>\n",
       "      <td>Riverhead</td>\n",
       "      <td>Paula Hawkins</td>\n",
       "      <td>1594634025</td>\n",
       "      <td>2017-02-19</td>\n",
       "      <td>THE GIRL ON THE TRAIN</td>\n",
       "      <td>102</td>\n",
       "      <td>5</td>\n",
       "    </tr>\n",
       "    <tr>\n",
       "      <th>1</th>\n",
       "      <td>Scribner</td>\n",
       "      <td>Anthony Doerr</td>\n",
       "      <td>1501173219</td>\n",
       "      <td>2017-05-07</td>\n",
       "      <td>ALL THE LIGHT WE CANNOT SEE</td>\n",
       "      <td>81</td>\n",
       "      <td>6</td>\n",
       "    </tr>\n",
       "    <tr>\n",
       "      <th>2</th>\n",
       "      <td>Vintage</td>\n",
       "      <td>E L James</td>\n",
       "      <td>0525431888</td>\n",
       "      <td>2017-03-05</td>\n",
       "      <td>FIFTY SHADES DARKER</td>\n",
       "      <td>66</td>\n",
       "      <td>3</td>\n",
       "    </tr>\n",
       "    <tr>\n",
       "      <th>3</th>\n",
       "      <td>St. Martin's</td>\n",
       "      <td>Kristin Hannah</td>\n",
       "      <td>1466850604</td>\n",
       "      <td>2017-10-29</td>\n",
       "      <td>THE NIGHTINGALE</td>\n",
       "      <td>63</td>\n",
       "      <td>2</td>\n",
       "    </tr>\n",
       "    <tr>\n",
       "      <th>4</th>\n",
       "      <td>Penguin Group</td>\n",
       "      <td>Kathryn Stockett</td>\n",
       "      <td>1440697663</td>\n",
       "      <td>2012-04-08</td>\n",
       "      <td>THE HELP</td>\n",
       "      <td>58</td>\n",
       "      <td>2</td>\n",
       "    </tr>\n",
       "  </tbody>\n",
       "</table>\n",
       "</div>"
      ],
      "text/plain": [
       "       publisher            author        isbn        date  \\\n",
       "0      Riverhead     Paula Hawkins  1594634025  2017-02-19   \n",
       "1       Scribner     Anthony Doerr  1501173219  2017-05-07   \n",
       "2        Vintage         E L James  0525431888  2017-03-05   \n",
       "3   St. Martin's    Kristin Hannah  1466850604  2017-10-29   \n",
       "4  Penguin Group  Kathryn Stockett  1440697663  2012-04-08   \n",
       "\n",
       "                         title  weeks_on_list  no_of_words_title  \n",
       "0        THE GIRL ON THE TRAIN            102                  5  \n",
       "1  ALL THE LIGHT WE CANNOT SEE             81                  6  \n",
       "2          FIFTY SHADES DARKER             66                  3  \n",
       "3              THE NIGHTINGALE             63                  2  \n",
       "4                     THE HELP             58                  2  "
      ]
     },
     "execution_count": 2,
     "metadata": {},
     "output_type": "execute_result"
    }
   ],
   "source": [
    "df = pd.read_csv('cleaned_books.csv')\n",
    "df = df.drop('Unnamed: 0', 1)\n",
    "df.head()"
   ]
  },
  {
   "cell_type": "code",
   "execution_count": 3,
   "metadata": {},
   "outputs": [
    {
     "name": "stdout",
     "output_type": "stream",
     "text": [
      "<class 'pandas.core.frame.DataFrame'>\n",
      "RangeIndex: 2248 entries, 0 to 2247\n",
      "Data columns (total 7 columns):\n",
      " #   Column             Non-Null Count  Dtype \n",
      "---  ------             --------------  ----- \n",
      " 0   publisher          2248 non-null   object\n",
      " 1   author             2248 non-null   object\n",
      " 2   isbn               2248 non-null   object\n",
      " 3   date               2248 non-null   object\n",
      " 4   title              2248 non-null   object\n",
      " 5   weeks_on_list      2248 non-null   int64 \n",
      " 6   no_of_words_title  2248 non-null   int64 \n",
      "dtypes: int64(2), object(5)\n",
      "memory usage: 123.1+ KB\n"
     ]
    }
   ],
   "source": [
    "df.info()"
   ]
  },
  {
   "cell_type": "code",
   "execution_count": 6,
   "metadata": {},
   "outputs": [],
   "source": [
    "# Limit the ranges in columns to remove outliers\n",
    "df = df.loc[(df['weeks_on_list'] <= 40)].copy()\n",
    "df = df.loc[(df['no_of_words_title'] <= 6)].copy()"
   ]
  },
  {
   "cell_type": "code",
   "execution_count": 7,
   "metadata": {},
   "outputs": [
    {
     "name": "stdout",
     "output_type": "stream",
     "text": [
      "<class 'pandas.core.frame.DataFrame'>\n",
      "Int64Index: 2216 entries, 8 to 2247\n",
      "Data columns (total 7 columns):\n",
      " #   Column             Non-Null Count  Dtype \n",
      "---  ------             --------------  ----- \n",
      " 0   publisher          2216 non-null   object\n",
      " 1   author             2216 non-null   object\n",
      " 2   isbn               2216 non-null   object\n",
      " 3   date               2216 non-null   object\n",
      " 4   title              2216 non-null   object\n",
      " 5   weeks_on_list      2216 non-null   int64 \n",
      " 6   no_of_words_title  2216 non-null   int64 \n",
      "dtypes: int64(2), object(5)\n",
      "memory usage: 138.5+ KB\n"
     ]
    }
   ],
   "source": [
    "df.info()"
   ]
  },
  {
   "cell_type": "code",
   "execution_count": 8,
   "metadata": {},
   "outputs": [
    {
     "data": {
      "text/html": [
       "<div>\n",
       "<style scoped>\n",
       "    .dataframe tbody tr th:only-of-type {\n",
       "        vertical-align: middle;\n",
       "    }\n",
       "\n",
       "    .dataframe tbody tr th {\n",
       "        vertical-align: top;\n",
       "    }\n",
       "\n",
       "    .dataframe thead th {\n",
       "        text-align: right;\n",
       "    }\n",
       "</style>\n",
       "<table border=\"1\" class=\"dataframe\">\n",
       "  <thead>\n",
       "    <tr style=\"text-align: right;\">\n",
       "      <th></th>\n",
       "      <th>publisher</th>\n",
       "      <th>author</th>\n",
       "      <th>isbn</th>\n",
       "      <th>date</th>\n",
       "      <th>title</th>\n",
       "      <th>weeks_on_list</th>\n",
       "      <th>no_of_words_title</th>\n",
       "      <th>popularity</th>\n",
       "    </tr>\n",
       "  </thead>\n",
       "  <tbody>\n",
       "    <tr>\n",
       "      <th>8</th>\n",
       "      <td>Berkley</td>\n",
       "      <td>Liane Moriarty</td>\n",
       "      <td>0425274861</td>\n",
       "      <td>2017-05-21</td>\n",
       "      <td>BIG LITTLE LIES</td>\n",
       "      <td>38</td>\n",
       "      <td>3</td>\n",
       "      <td>True</td>\n",
       "    </tr>\n",
       "    <tr>\n",
       "      <th>9</th>\n",
       "      <td>Ballantine</td>\n",
       "      <td>Lisa Wingate</td>\n",
       "      <td>0425284697</td>\n",
       "      <td>2018-06-09</td>\n",
       "      <td>BEFORE WE WERE YOURS</td>\n",
       "      <td>35</td>\n",
       "      <td>4</td>\n",
       "      <td>True</td>\n",
       "    </tr>\n",
       "    <tr>\n",
       "      <th>10</th>\n",
       "      <td>Scout</td>\n",
       "      <td>Ruth Ware</td>\n",
       "      <td>1501132954</td>\n",
       "      <td>2017-10-08</td>\n",
       "      <td>THE WOMAN IN CABIN 10</td>\n",
       "      <td>35</td>\n",
       "      <td>5</td>\n",
       "      <td>True</td>\n",
       "    </tr>\n",
       "    <tr>\n",
       "      <th>11</th>\n",
       "      <td>Penguin Press</td>\n",
       "      <td>Celeste Ng</td>\n",
       "      <td>0735224307</td>\n",
       "      <td>2018-06-09</td>\n",
       "      <td>LITTLE FIRES EVERYWHERE</td>\n",
       "      <td>31</td>\n",
       "      <td>3</td>\n",
       "      <td>True</td>\n",
       "    </tr>\n",
       "    <tr>\n",
       "      <th>12</th>\n",
       "      <td>Knopf Doubleday Publishing</td>\n",
       "      <td>Stieg Larsson</td>\n",
       "      <td>0307272117</td>\n",
       "      <td>2013-01-13</td>\n",
       "      <td>THE GIRL WITH THE DRAGON TATTOO</td>\n",
       "      <td>31</td>\n",
       "      <td>6</td>\n",
       "      <td>True</td>\n",
       "    </tr>\n",
       "  </tbody>\n",
       "</table>\n",
       "</div>"
      ],
      "text/plain": [
       "                     publisher          author        isbn        date  \\\n",
       "8                      Berkley  Liane Moriarty  0425274861  2017-05-21   \n",
       "9                   Ballantine    Lisa Wingate  0425284697  2018-06-09   \n",
       "10                       Scout       Ruth Ware  1501132954  2017-10-08   \n",
       "11               Penguin Press      Celeste Ng  0735224307  2018-06-09   \n",
       "12  Knopf Doubleday Publishing   Stieg Larsson  0307272117  2013-01-13   \n",
       "\n",
       "                              title  weeks_on_list  no_of_words_title  \\\n",
       "8                   BIG LITTLE LIES             38                  3   \n",
       "9              BEFORE WE WERE YOURS             35                  4   \n",
       "10            THE WOMAN IN CABIN 10             35                  5   \n",
       "11          LITTLE FIRES EVERYWHERE             31                  3   \n",
       "12  THE GIRL WITH THE DRAGON TATTOO             31                  6   \n",
       "\n",
       "    popularity  \n",
       "8         True  \n",
       "9         True  \n",
       "10        True  \n",
       "11        True  \n",
       "12        True  "
      ]
     },
     "execution_count": 8,
     "metadata": {},
     "output_type": "execute_result"
    }
   ],
   "source": [
    "df['popularity'] = np.where(df.weeks_on_list >= 5, True, False)\n",
    "df.head()"
   ]
  },
  {
   "cell_type": "code",
   "execution_count": 9,
   "metadata": {},
   "outputs": [
    {
     "name": "stdout",
     "output_type": "stream",
     "text": [
      "<class 'pandas.core.frame.DataFrame'>\n",
      "Int64Index: 2216 entries, 8 to 2247\n",
      "Data columns (total 8 columns):\n",
      " #   Column             Non-Null Count  Dtype \n",
      "---  ------             --------------  ----- \n",
      " 0   publisher          2216 non-null   object\n",
      " 1   author             2216 non-null   object\n",
      " 2   isbn               2216 non-null   object\n",
      " 3   date               2216 non-null   object\n",
      " 4   title              2216 non-null   object\n",
      " 5   weeks_on_list      2216 non-null   int64 \n",
      " 6   no_of_words_title  2216 non-null   int64 \n",
      " 7   popularity         2216 non-null   bool  \n",
      "dtypes: bool(1), int64(2), object(5)\n",
      "memory usage: 140.7+ KB\n"
     ]
    }
   ],
   "source": [
    "df.info()"
   ]
  },
  {
   "cell_type": "code",
   "execution_count": 10,
   "metadata": {},
   "outputs": [
    {
     "data": {
      "text/plain": [
       "False    0.930957\n",
       "True     0.069043\n",
       "Name: popularity, dtype: float64"
      ]
     },
     "execution_count": 10,
     "metadata": {},
     "output_type": "execute_result"
    }
   ],
   "source": [
    "df['popularity'].value_counts(normalize=True)"
   ]
  },
  {
   "cell_type": "markdown",
   "metadata": {},
   "source": [
    "# Save all changes to a new csv file"
   ]
  },
  {
   "cell_type": "code",
   "execution_count": 11,
   "metadata": {},
   "outputs": [],
   "source": [
    "df.to_csv('cleaned_books_modeling.csv')"
   ]
  },
  {
   "cell_type": "code",
   "execution_count": null,
   "metadata": {},
   "outputs": [],
   "source": []
  }
 ],
 "metadata": {
  "kernelspec": {
   "display_name": "Python 3",
   "language": "python",
   "name": "python3"
  },
  "language_info": {
   "codemirror_mode": {
    "name": "ipython",
    "version": 3
   },
   "file_extension": ".py",
   "mimetype": "text/x-python",
   "name": "python",
   "nbconvert_exporter": "python",
   "pygments_lexer": "ipython3",
   "version": "3.7.6"
  }
 },
 "nbformat": 4,
 "nbformat_minor": 4
}
